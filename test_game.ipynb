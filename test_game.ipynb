{
 "cells": [
  {
   "cell_type": "code",
   "execution_count": null,
   "metadata": {},
   "outputs": [
    {
     "ename": "ModuleNotFoundError",
     "evalue": "No module named 'game'",
     "output_type": "error",
     "traceback": [
      "\u001b[0;31m---------------------------------------------------------------------------\u001b[0m",
      "\u001b[0;31mModuleNotFoundError\u001b[0m                       Traceback (most recent call last)",
      "Cell \u001b[0;32mIn[4], line 2\u001b[0m\n\u001b[1;32m      1\u001b[0m \u001b[38;5;28;01mimport\u001b[39;00m \u001b[38;5;21;01munittest\u001b[39;00m\n\u001b[0;32m----> 2\u001b[0m \u001b[38;5;28;01mfrom\u001b[39;00m \u001b[38;5;21;01mgame\u001b[39;00m \u001b[38;5;28;01mimport\u001b[39;00m Bids\n",
      "\u001b[0;31mModuleNotFoundError\u001b[0m: No module named 'game'"
     ]
    }
   ],
   "source": [
    "import unittest\n",
    "import game"
   ]
  },
  {
   "cell_type": "code",
   "execution_count": null,
   "metadata": {},
   "outputs": [],
   "source": [
    "\n",
    "\n",
    "class TestBidsGame(unittest.TestCase):\n",
    "\n",
    "    def setUp(self):\n",
    "        self.game = BidsGame()\n",
    "\n",
    "    def test_initial_score(self):\n",
    "        self.assertEqual(self.game.score, 0, \"Initial score should be 0\")\n",
    "\n",
    "    def test_place_bid(self):\n",
    "        self.game.place_bid(5)\n",
    "        self.assertEqual(self.game.current_bid, 5, \"Current bid should be 5\")\n",
    "\n",
    "    def test_invalid_bid(self):\n",
    "        with self.assertRaises(ValueError):\n",
    "            self.game.place_bid(-1)\n",
    "\n",
    "    def test_win_round(self):\n",
    "        self.game.place_bid(5)\n",
    "        self.game.win_round()\n",
    "        self.assertEqual(self.game.score, 5, \"Score should be 5 after winning the round\")\n",
    "\n",
    "    def test_lose_round(self):\n",
    "        self.game.place_bid(5)\n",
    "        self.game.lose_round()\n",
    "        self.assertEqual(self.game.score, -5, \"Score should be -5 after losing the round\")\n",
    "\n",
    "if __name__ == '__main__':\n",
    "    unittest.main()"
   ]
  }
 ],
 "metadata": {
  "kernelspec": {
   "display_name": "jupyterVenv",
   "language": "python",
   "name": "python3"
  },
  "language_info": {
   "codemirror_mode": {
    "name": "ipython",
    "version": 3
   },
   "file_extension": ".py",
   "mimetype": "text/x-python",
   "name": "python",
   "nbconvert_exporter": "python",
   "pygments_lexer": "ipython3",
   "version": "3.11.7"
  }
 },
 "nbformat": 4,
 "nbformat_minor": 2
}
